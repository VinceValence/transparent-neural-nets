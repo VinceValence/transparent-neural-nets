{
 "cells": [
  {
   "cell_type": "code",
   "execution_count": 6,
   "metadata": {},
   "outputs": [],
   "source": [
    "from abc import ABC, abstractstaticmethod\n",
    "import numpy as np"
   ]
  },
  {
   "cell_type": "code",
   "execution_count": 7,
   "metadata": {},
   "outputs": [],
   "source": [
    "class CGNode(ABC):\n",
    "    \n",
    "    '''\n",
    "    Computational graph node template\n",
    "    '''\n",
    "    \n",
    "    @abstractstaticmethod\n",
    "    def prop_forward(x):\n",
    "        pass\n",
    "    \n",
    "    @abstractstaticmethod\n",
    "    def prop_backward():\n",
    "        pass"
   ]
  },
  {
   "cell_type": "code",
   "execution_count": 8,
   "metadata": {},
   "outputs": [],
   "source": [
    "class CGSum(CGNode):\n",
    "    \n",
    "    '''\n",
    "    Computational graph sum node\n",
    "    '''\n",
    "    \n",
    "    @staticmethod\n",
    "    def prop_forward(x):\n",
    "        return np.sum(x)\n",
    "    \n",
    "    @staticmethod\n",
    "    def prop_backward(x):\n",
    "        return np.ones(np.array(x).size)\n"
   ]
  },
  {
   "cell_type": "code",
   "execution_count": 14,
   "metadata": {},
   "outputs": [],
   "source": [
    "class CGMul(CGNode):\n",
    "    \n",
    "    '''\n",
    "    Computational graph multiplication node\n",
    "    '''\n",
    "    \n",
    "    @staticmethod\n",
    "    def prop_forward(x):\n",
    "        return np.prod(x)\n",
    "    \n",
    "    @staticmethod\n",
    "    def prop_backward(x):\n",
    "        _x = np.array(x)\n",
    "        \n",
    "        # repeat x size times and arrange as rows\n",
    "        repeated = np.ones([_x.size, _x.size])*x\n",
    "        \n",
    "        # differentiate\n",
    "        np.fill_diagonal(repeated, 1)\n",
    "        \n",
    "        # multiply constants \n",
    "        # (variables not being differentiated)\n",
    "        return np.prod(repeated, 1)  # gradient"
   ]
  },
  {
   "cell_type": "code",
   "execution_count": 15,
   "metadata": {},
   "outputs": [],
   "source": [
    "class CGExp:\n",
    "    \n",
    "    @staticmethod\n",
    "    def prop_forward(x):\n",
    "        return np.exp(x)\n",
    "    \n",
    "    @staticmethod\n",
    "    def prop_backward(x):\n",
    "        return np.exp(x)"
   ]
  },
  {
   "cell_type": "code",
   "execution_count": null,
   "metadata": {},
   "outputs": [],
   "source": [
    "class CG:\n",
    "    \n",
    "    def __init__(self, gates):\n",
    "        \n",
    "        # gates is a list of lists of gates\n",
    "        # gates in the same row receive same inputs\n",
    "        self.gates = gates\n",
    "        \n",
    "    def prop_forward(self, x):\n",
    "        next_values = x\n",
    "        for gate_row in self.gates:\n",
    "            input_values = next_values\n",
    "            next_values = []\n",
    "            for gate in gate_row:\n",
    "                new_value = gate.prop_forward(input_values)\n",
    "                next_values.append(new_value)\n",
    "                \n",
    "                "
   ]
  },
  {
   "cell_type": "code",
   "execution_count": null,
   "metadata": {},
   "outputs": [],
   "source": [
    "cg = CG(CG)"
   ]
  }
 ],
 "metadata": {
  "kernelspec": {
   "display_name": "Python 3",
   "language": "python",
   "name": "python3"
  },
  "language_info": {
   "codemirror_mode": {
    "name": "ipython",
    "version": 3
   },
   "file_extension": ".py",
   "mimetype": "text/x-python",
   "name": "python",
   "nbconvert_exporter": "python",
   "pygments_lexer": "ipython3",
   "version": "3.7.3"
  }
 },
 "nbformat": 4,
 "nbformat_minor": 2
}
