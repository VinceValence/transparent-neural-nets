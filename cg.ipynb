{
 "cells": [
  {
   "cell_type": "markdown",
   "metadata": {},
   "source": [
    "# TODO: make instances instead of static classes so as to hold last forwarded inputs and outputs"
   ]
  },
  {
   "cell_type": "code",
   "execution_count": 3,
   "metadata": {},
   "outputs": [],
   "source": [
    "from abc import ABC, abstractstaticmethod\n",
    "import numpy as np"
   ]
  },
  {
   "cell_type": "code",
   "execution_count": 98,
   "metadata": {},
   "outputs": [],
   "source": [
    "class CGNode(ABC):\n",
    "    \n",
    "    '''\n",
    "    Computational graph node template. In all of the methods,\n",
    "    the input vectors must have a shape of the form (n,)\n",
    "    '''\n",
    "    \n",
    "    @abstractstaticmethod\n",
    "    def prop_forward():\n",
    "        \n",
    "        '''\n",
    "        Take inputs and evaluate the\n",
    "        node's corresponding operation\n",
    "        '''\n",
    "        \n",
    "        pass\n",
    "    \n",
    "    @abstractstaticmethod\n",
    "    def prop_backward():\n",
    "        \n",
    "        '''\n",
    "        Take outputs and evaluate the gradient\n",
    "        of the node's corresponding operation\n",
    "        '''\n",
    "        \n",
    "        pass"
   ]
  },
  {
   "cell_type": "code",
   "execution_count": 99,
   "metadata": {},
   "outputs": [],
   "source": [
    "class CGSum(CGNode):\n",
    "    \n",
    "    '''\n",
    "    Computational graph sum node\n",
    "    '''\n",
    "    \n",
    "    @staticmethod\n",
    "    def prop_forward(x):\n",
    "        return np.sum(x)\n",
    "    \n",
    "    @staticmethod\n",
    "    def prop_backward(x, grad):\n",
    "        return grad * np.ones(np.array(x).size)\n"
   ]
  },
  {
   "cell_type": "code",
   "execution_count": 6,
   "metadata": {},
   "outputs": [],
   "source": [
    "class CGMul(CGNode):\n",
    "    \n",
    "    '''\n",
    "    Computational graph multiplication node\n",
    "    '''\n",
    "    \n",
    "    @staticmethod\n",
    "    def prop_forward(x):\n",
    "        return np.prod(x)\n",
    "    \n",
    "    @staticmethod\n",
    "    def prop_backward(x, grad):\n",
    "        _x = np.array(x)\n",
    "        \n",
    "        # repeat x size times and arrange as rows\n",
    "        repeated = np.ones([_x.size, _x.size])*x\n",
    "        \n",
    "        # start differentiation\n",
    "        np.fill_diagonal(repeated, 1)\n",
    "        \n",
    "        # multiply constants \n",
    "        # (variables not being differentiated)\n",
    "        return grad * np.prod(repeated, 1)"
   ]
  },
  {
   "cell_type": "code",
   "execution_count": 7,
   "metadata": {},
   "outputs": [],
   "source": [
    "class CGExp(CGNode):\n",
    "    \n",
    "    @staticmethod\n",
    "    def prop_forward(x):\n",
    "        return np.exp(x)\n",
    "    \n",
    "    @staticmethod\n",
    "    def prop_backward(x, grad):\n",
    "        return grad * np.exp(x)"
   ]
  },
  {
   "cell_type": "code",
   "execution_count": 94,
   "metadata": {},
   "outputs": [],
   "source": [
    "class CGDot(CGNode):\n",
    "    \n",
    "    '''\n",
    "    Dot product node composed of summation and multiplication nodes for \n",
    "    transparency and accordance with the concept of a computational graph\n",
    "    '''\n",
    "    \n",
    "    @staticmethod\n",
    "    def prop_forward(x, y):\n",
    "        \n",
    "        xy = CGDot.pre_dot(x, y)\n",
    "        mul = np.apply_along_axis(CGMul.prop_forward, 0, xy)\n",
    "        result =  CGSum.prop_forward(mul)\n",
    "        return result\n",
    "    \n",
    "    @staticmethod\n",
    "    def prop_backward(x, y, grad):\n",
    "        \n",
    "        xy = CGDot.pre_dot()\n",
    "        \n",
    "        # take the inputs of the sum phase (i.e. the output of the multiplication phase)\n",
    "        sum_back_prop = np.apply_along_axis(lambda _xy: CGSum.prop_backward(xy, grad), 0, xy)\n",
    "        \n",
    "        return s\n",
    "    \n",
    "    \n",
    "    @staticmethod\n",
    "    def pre_dot(x, y):\n",
    "        \n",
    "        '''\n",
    "        Arrange the inputs to facilitate \n",
    "        dot product computation\n",
    "        '''\n",
    "        \n",
    "        x = np.reshape(x, (1, len(x)))\n",
    "        y = np.reshape(y, (1, len(y)))\n",
    "        xy = np.concatenate((x,y))\n",
    "        return xy"
   ]
  },
  {
   "cell_type": "markdown",
   "metadata": {},
   "source": [
    "### I wanted to create a generalization of a computational graph, but its implementation appears to be too complex for my desired scope"
   ]
  },
  {
   "cell_type": "code",
   "execution_count": 9,
   "metadata": {},
   "outputs": [],
   "source": [
    "# class CG:\n",
    "    \n",
    "#     def __init__(self, gates):\n",
    "        \n",
    "#         # gates is a list of lists of gates\n",
    "#         # gates in the same row receive same inputs\n",
    "#         self.gates = gates\n",
    "        \n",
    "#     def prop_forward(self, x):\n",
    "#         next_values = x\n",
    "#         for gate_row in self.gates:\n",
    "#             input_values = next_values\n",
    "#             next_values = []\n",
    "#             for gate in gate_row:\n",
    "#                 new_value = gate.prop_forward(input_values)\n",
    "#                 next_values.append(new_value)\n",
    "                \n",
    "                "
   ]
  }
 ],
 "metadata": {
  "kernelspec": {
   "display_name": "Python 3",
   "language": "python",
   "name": "python3"
  },
  "language_info": {
   "codemirror_mode": {
    "name": "ipython",
    "version": 3
   },
   "file_extension": ".py",
   "mimetype": "text/x-python",
   "name": "python",
   "nbconvert_exporter": "python",
   "pygments_lexer": "ipython3",
   "version": "3.7.3"
  }
 },
 "nbformat": 4,
 "nbformat_minor": 2
}
