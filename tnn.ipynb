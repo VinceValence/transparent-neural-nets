{
 "cells": [
  {
   "cell_type": "code",
   "execution_count": 46,
   "metadata": {},
   "outputs": [],
   "source": [
    "from abc import ABC, abstractstaticmethod\n",
    "import numpy as np"
   ]
  },
  {
   "cell_type": "code",
   "execution_count": 49,
   "metadata": {},
   "outputs": [],
   "source": [
    "class CGNode(ABC):\n",
    "    \n",
    "    '''\n",
    "    Computational graph node template\n",
    "    '''\n",
    "    \n",
    "    @abstractstaticmethod\n",
    "    def prop_forward(x):\n",
    "        pass\n",
    "    \n",
    "    @abstractstaticmethod\n",
    "    def prop_backward():\n",
    "        pass"
   ]
  },
  {
   "cell_type": "code",
   "execution_count": 59,
   "metadata": {},
   "outputs": [],
   "source": [
    "class CGSum(CGNode):\n",
    "    \n",
    "    '''\n",
    "    Computational graph sum node\n",
    "    '''\n",
    "    \n",
    "    @staticmethod\n",
    "    def prop_forward(x):\n",
    "        return np.array(x).sum()\n",
    "    \n",
    "    @staticmethod\n",
    "    def prop_backward(x):\n",
    "        return np.ones(np.array(x).size)\n"
   ]
  }
 ],
 "metadata": {
  "kernelspec": {
   "display_name": "Python 3",
   "language": "python",
   "name": "python3"
  },
  "language_info": {
   "codemirror_mode": {
    "name": "ipython",
    "version": 3
   },
   "file_extension": ".py",
   "mimetype": "text/x-python",
   "name": "python",
   "nbconvert_exporter": "python",
   "pygments_lexer": "ipython3",
   "version": "3.7.3"
  }
 },
 "nbformat": 4,
 "nbformat_minor": 2
}
